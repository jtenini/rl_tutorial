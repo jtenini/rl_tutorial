{
 "cells": [
  {
   "cell_type": "code",
   "execution_count": 1,
   "id": "4d1031d2",
   "metadata": {},
   "outputs": [],
   "source": [
    "import pandas as pd\n",
    "import numpy as np"
   ]
  },
  {
   "cell_type": "markdown",
   "id": "e3c19d8a",
   "metadata": {},
   "source": [
    "### Non-contextual bandit problem (trivial state).\n",
    "\n",
    "Consider the sub-problem where rewards depend on action but not state. In this case there is a single best action for everyone (no personalization opportunity).\n",
    "\n",
    "You're running a website for an artist who has four products. You're making a popup with a special offer to sign up for a mailing list, which offer should you choose?"
   ]
  },
  {
   "cell_type": "code",
   "execution_count": 2,
   "id": "f088343a",
   "metadata": {},
   "outputs": [],
   "source": [
    "def get_noncon_reward(action):\n",
    "    if action == 'a0':\n",
    "        return np.random.binomial(1, 0.03)\n",
    "    elif action == 'a1':\n",
    "        return np.random.binomial(1, 0.02)\n",
    "    elif action == 'a2' or action == 'a3':\n",
    "        return np.random.binomial(1, 0.01)\n",
    "    else:\n",
    "        raise ValueError('Unrecognized action.')"
   ]
  },
  {
   "cell_type": "code",
   "execution_count": 3,
   "id": "3cda61e5",
   "metadata": {},
   "outputs": [],
   "source": [
    "num_sessions = 100000"
   ]
  },
  {
   "cell_type": "markdown",
   "id": "18aea741",
   "metadata": {},
   "source": [
    "#### Try number 1 - random serving:"
   ]
  },
  {
   "cell_type": "code",
   "execution_count": 4,
   "id": "745755f1",
   "metadata": {},
   "outputs": [
    {
     "name": "stdout",
     "output_type": "stream",
     "text": [
      "Profit:  1762\n",
      "{'a0': 24921, 'a1': 25077, 'a2': 25198, 'a3': 24804}\n"
     ]
    }
   ],
   "source": [
    "rewards = []\n",
    "action_cnt_dict = {'a0': 0, 'a1': 0, 'a2': 0, 'a3': 0}\n",
    "\n",
    "for i in range(num_sessions):\n",
    "    action = np.random.choice(['a0', 'a1', 'a2', 'a3'])\n",
    "    action_cnt_dict[action] += 1\n",
    "    rewards.append(get_noncon_reward(action))\n",
    "    \n",
    "cumulative_reward = np.array(rewards).sum()\n",
    "print('Profit: ', cumulative_reward)\n",
    "print(action_cnt_dict)"
   ]
  },
  {
   "cell_type": "markdown",
   "id": "79aabbb8",
   "metadata": {},
   "source": [
    "#### Try number 2 - explore first:"
   ]
  },
  {
   "cell_type": "code",
   "execution_count": 5,
   "id": "a1991d2e",
   "metadata": {},
   "outputs": [
    {
     "name": "stdout",
     "output_type": "stream",
     "text": [
      "Profit:  2664\n",
      "Best learned action:  a0\n",
      "{'a0': 81202, 'a1': 6330, 'a2': 6227, 'a3': 6241}\n"
     ]
    }
   ],
   "source": [
    "exploration_budget = num_sessions/4\n",
    "learned = False\n",
    "rewards = []\n",
    "history = {'a0': [], 'a1': [], 'a2': [], 'a3': []}\n",
    "action_cnt_dict = {'a0': 0, 'a1': 0, 'a2': 0, 'a3': 0}\n",
    "\n",
    "for i in range(num_sessions):\n",
    "    if (i < exploration_budget): #explore here!\n",
    "        action = np.random.choice(['a0', 'a1', 'a2', 'a3'])\n",
    "        action_cnt_dict[action] += 1\n",
    "        reward = get_noncon_reward(action)\n",
    "        rewards.append(reward)\n",
    "        # add to history\n",
    "        history[action].append(reward)\n",
    "    else:\n",
    "        if not learned:\n",
    "            #learn!\n",
    "            best_rate = 0.0\n",
    "            best_action = 'unknown'\n",
    "            for a in history:\n",
    "                rate = np.array(history[a]).mean()\n",
    "                if rate > best_rate:\n",
    "                    best_rate = rate\n",
    "                    best_action = a\n",
    "            learned = True\n",
    "            rewards.append(get_noncon_reward(best_action))\n",
    "            action_cnt_dict[best_action] += 1\n",
    "        else:\n",
    "            #be greedy!\n",
    "            rewards.append(get_noncon_reward(best_action))\n",
    "            action_cnt_dict[best_action] += 1\n",
    "\n",
    "            \n",
    "cumulative_reward = np.array(rewards).sum()\n",
    "print('Profit: ', cumulative_reward)\n",
    "print('Best learned action: ', best_action)\n",
    "print(action_cnt_dict)"
   ]
  },
  {
   "cell_type": "markdown",
   "id": "3051fe93",
   "metadata": {},
   "source": [
    "#### Thompson Sampling (simple but optimal bandit algorithm)"
   ]
  },
  {
   "cell_type": "code",
   "execution_count": 6,
   "id": "c8dd957d",
   "metadata": {},
   "outputs": [
    {
     "name": "stdout",
     "output_type": "stream",
     "text": [
      "Profit:  2896\n",
      "{'a0': 95494, 'a1': 3198, 'a2': 334, 'a3': 974}\n"
     ]
    }
   ],
   "source": [
    "rewards = []\n",
    "successes = [1,1,1,1]\n",
    "failures = [1,1,1,1]\n",
    "action_dict = {0: 'a0', 1: 'a1', 2: 'a2', 3: 'a3'}\n",
    "action_cnt_dict = {'a0': 0, 'a1': 0, 'a2': 0, 'a3': 0}\n",
    "\n",
    "for i in range(num_sessions):\n",
    "    beta_samples = np.random.beta(successes, failures)\n",
    "    action_index = np.argmax(beta_samples)\n",
    "    action = action_dict[action_index]\n",
    "    action_cnt_dict[action] += 1\n",
    "    reward = get_noncon_reward(action)\n",
    "    rewards.append(reward)\n",
    "    #learn\n",
    "    successes[action_index] += reward\n",
    "    failures[action_index] += 1-reward\n",
    "    \n",
    "    \n",
    "cumulative_reward = np.array(rewards).sum()\n",
    "print('Profit: ', cumulative_reward)\n",
    "print(action_cnt_dict)"
   ]
  },
  {
   "cell_type": "code",
   "execution_count": null,
   "id": "69950d31",
   "metadata": {},
   "outputs": [],
   "source": []
  }
 ],
 "metadata": {
  "kernelspec": {
   "display_name": "Python 3 (ipykernel)",
   "language": "python",
   "name": "python3"
  },
  "language_info": {
   "codemirror_mode": {
    "name": "ipython",
    "version": 3
   },
   "file_extension": ".py",
   "mimetype": "text/x-python",
   "name": "python",
   "nbconvert_exporter": "python",
   "pygments_lexer": "ipython3",
   "version": "3.10.9"
  }
 },
 "nbformat": 4,
 "nbformat_minor": 5
}
