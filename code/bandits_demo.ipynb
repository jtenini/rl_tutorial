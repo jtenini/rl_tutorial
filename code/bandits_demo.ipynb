{
 "cells": [
  {
   "cell_type": "code",
   "execution_count": 1,
   "id": "426998a1",
   "metadata": {},
   "outputs": [],
   "source": [
    "import pandas as pd\n",
    "import numpy as np"
   ]
  },
  {
   "cell_type": "markdown",
   "id": "3c8151d6",
   "metadata": {},
   "source": [
    "### Non-contextual bandit problem (trivial state).\n",
    "\n",
    "Consider the sub-problem where rewards depend on action but not state. In this case there is a single best action for everyone (no personalization opportunity).\n",
    "\n",
    "You're running a website for an artist who has four products. You're making a popup with a special offer to sign up for a mailing list, which offer should you choose?"
   ]
  },
  {
   "cell_type": "code",
   "execution_count": 67,
   "id": "e22a7d37",
   "metadata": {},
   "outputs": [],
   "source": [
    "def get_noncon_reward(action):\n",
    "    if action == 'a1':\n",
    "        return np.random.binomial(1, 0.03)\n",
    "    elif action == 'a2':\n",
    "        return np.random.binomial(1, 0.02)\n",
    "    elif action == 'a3' or action == 'a4':\n",
    "        return np.random.binomial(1, 0.01)\n",
    "    else:\n",
    "        raise ValueError('Unrecognized action.')"
   ]
  },
  {
   "cell_type": "code",
   "execution_count": 68,
   "id": "bd0e6c7a",
   "metadata": {},
   "outputs": [],
   "source": [
    "num_sessions = 100000"
   ]
  },
  {
   "cell_type": "markdown",
   "id": "e87361be",
   "metadata": {},
   "source": [
    "#### Try number 1 - random serving:"
   ]
  },
  {
   "cell_type": "code",
   "execution_count": 71,
   "id": "03215cf4",
   "metadata": {},
   "outputs": [
    {
     "name": "stdout",
     "output_type": "stream",
     "text": [
      "Profit:  1797\n"
     ]
    }
   ],
   "source": [
    "rewards = []\n",
    "\n",
    "for i in range(num_sessions):\n",
    "    action = np.random.choice(['a1', 'a2', 'a3', 'a4'])\n",
    "    rewards.append(get_noncon_reward(action))\n",
    "    \n",
    "cumulative_reward = np.array(rewards).sum()\n",
    "print('Profit: ', cumulative_reward)"
   ]
  },
  {
   "cell_type": "markdown",
   "id": "74602122",
   "metadata": {},
   "source": [
    "#### Try number 2 - explore first:"
   ]
  },
  {
   "cell_type": "code",
   "execution_count": 115,
   "id": "c797058f",
   "metadata": {},
   "outputs": [
    {
     "name": "stdout",
     "output_type": "stream",
     "text": [
      "Profit:  2559\n",
      "Best learned action:  a1\n"
     ]
    }
   ],
   "source": [
    "exploration_budget = num_sessions/4\n",
    "learned = False\n",
    "rewards = []\n",
    "history = {'a1': [], 'a2': [], 'a3': [], 'a4': []}\n",
    "\n",
    "for i in range(num_sessions):\n",
    "    if (i < exploration_budget): #explore here!\n",
    "        action = np.random.choice(['a1', 'a2', 'a3', 'a4'])\n",
    "        reward = get_noncon_reward(action)\n",
    "        rewards.append(reward)\n",
    "        # add to history\n",
    "        history[action].append(reward)\n",
    "    else:\n",
    "        if not learned:\n",
    "            #learn!\n",
    "            best_rate = 0.0\n",
    "            best_action = 'unknown'\n",
    "            for a in history:\n",
    "                rate = np.array(history[a]).mean()\n",
    "                if rate > best_rate:\n",
    "                    best_rate = rate\n",
    "                    best_action = a\n",
    "            learned = True\n",
    "            rewards.append(get_noncon_reward(best_action))\n",
    "        else:\n",
    "            #be greedy!\n",
    "            rewards.append(get_noncon_reward(best_action))\n",
    "            \n",
    "cumulative_reward = np.array(rewards).sum()\n",
    "print('Profit: ', cumulative_reward)\n",
    "print('Best learned action: ', best_action)"
   ]
  },
  {
   "cell_type": "markdown",
   "id": "f7c7568d",
   "metadata": {},
   "source": [
    "#### Thompson Sampling (simple but optimal bandit algorithm)"
   ]
  },
  {
   "cell_type": "code",
   "execution_count": 121,
   "id": "f3d208c5",
   "metadata": {},
   "outputs": [
    {
     "name": "stdout",
     "output_type": "stream",
     "text": [
      "Profit:  2956\n"
     ]
    }
   ],
   "source": [
    "rewards = []\n",
    "successes = [1,1,1,1]\n",
    "failures = [1,1,1,1]\n",
    "action_dict = {0: 'a1', 1: 'a2', 2: 'a3', 3: 'a4'}\n",
    "\n",
    "for i in range(num_sessions):\n",
    "    beta_samples = np.random.beta(successes, failures)\n",
    "    action_index = np.argmax(beta_samples)\n",
    "    action = action_dict[action_index]\n",
    "    reward = get_noncon_reward(action)\n",
    "    rewards.append(reward)\n",
    "    #learn\n",
    "    successes[action_index] += reward\n",
    "    failures[action_index] += 1-reward\n",
    "    \n",
    "    \n",
    "cumulative_reward = np.array(rewards).sum()\n",
    "print('Profit: ', cumulative_reward)"
   ]
  },
  {
   "cell_type": "code",
   "execution_count": null,
   "id": "61eb4f52",
   "metadata": {},
   "outputs": [],
   "source": []
  }
 ],
 "metadata": {
  "kernelspec": {
   "display_name": "Python 3 (ipykernel)",
   "language": "python",
   "name": "python3"
  },
  "language_info": {
   "codemirror_mode": {
    "name": "ipython",
    "version": 3
   },
   "file_extension": ".py",
   "mimetype": "text/x-python",
   "name": "python",
   "nbconvert_exporter": "python",
   "pygments_lexer": "ipython3",
   "version": "3.10.9"
  }
 },
 "nbformat": 4,
 "nbformat_minor": 5
}
