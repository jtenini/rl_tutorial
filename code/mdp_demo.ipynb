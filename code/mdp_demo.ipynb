{
 "cells": [
  {
   "cell_type": "code",
   "execution_count": 9,
   "id": "d4fcac5b",
   "metadata": {},
   "outputs": [],
   "source": [
    "import numpy as np"
   ]
  },
  {
   "cell_type": "markdown",
   "id": "638bee08",
   "metadata": {},
   "source": [
    "# Example MDP - email campaign optimization"
   ]
  },
  {
   "cell_type": "code",
   "execution_count": 30,
   "id": "896d6fd8",
   "metadata": {},
   "outputs": [],
   "source": [
    "class email_env:\n",
    "    def __init__(self):\n",
    "        pass\n",
    "    \n",
    "    def reset(self):\n",
    "        user_type = np.random.choice([0, 1])\n",
    "        self.state = [user_type, 0]\n",
    "        self.done = False\n",
    "        self.episode_len = 0\n",
    "        return self.state\n",
    "    \n",
    "    def step(self, action):\n",
    "        self.episode_len += 1\n",
    "        \n",
    "        if action not in [0, 1]:\n",
    "            raise ValueError('Unexpected Action')\n",
    "        if action == 0:\n",
    "            if self.state[0] == 0:\n",
    "                self.state = [0, 0]\n",
    "                reward = 1\n",
    "            else:\n",
    "                if self.state[1] > 2:\n",
    "                    self.state[1] = 0\n",
    "                    reward = 1\n",
    "                else:\n",
    "                    self.state[1] = 0\n",
    "                    reward = 0\n",
    "        else:\n",
    "            reward = 0\n",
    "            self.state[1] += 1\n",
    "        self.done = True if self.episode_len > 52 else False\n",
    "        return reward, self.state, self.done"
   ]
  },
  {
   "cell_type": "markdown",
   "id": "be32d9bc",
   "metadata": {},
   "source": [
    "#### Ad hoc experimentation"
   ]
  },
  {
   "cell_type": "code",
   "execution_count": 31,
   "id": "a0dcd445",
   "metadata": {},
   "outputs": [],
   "source": [
    "env = email_env()"
   ]
  },
  {
   "cell_type": "code",
   "execution_count": 39,
   "id": "03001738",
   "metadata": {},
   "outputs": [
    {
     "data": {
      "text/plain": [
       "[1, 0]"
      ]
     },
     "execution_count": 39,
     "metadata": {},
     "output_type": "execute_result"
    }
   ],
   "source": [
    "env.reset()"
   ]
  },
  {
   "cell_type": "code",
   "execution_count": 40,
   "id": "3482af28",
   "metadata": {},
   "outputs": [
    {
     "data": {
      "text/plain": [
       "(0, [1, 1], False)"
      ]
     },
     "execution_count": 40,
     "metadata": {},
     "output_type": "execute_result"
    }
   ],
   "source": [
    "env.step(1)"
   ]
  },
  {
   "cell_type": "code",
   "execution_count": 41,
   "id": "183b0b95",
   "metadata": {},
   "outputs": [
    {
     "data": {
      "text/plain": [
       "(0, [1, 2], False)"
      ]
     },
     "execution_count": 41,
     "metadata": {},
     "output_type": "execute_result"
    }
   ],
   "source": [
    "env.step(1)"
   ]
  },
  {
   "cell_type": "code",
   "execution_count": 42,
   "id": "e6a7b8cc",
   "metadata": {},
   "outputs": [
    {
     "data": {
      "text/plain": [
       "(0, [1, 3], False)"
      ]
     },
     "execution_count": 42,
     "metadata": {},
     "output_type": "execute_result"
    }
   ],
   "source": [
    "env.step(1)"
   ]
  },
  {
   "cell_type": "code",
   "execution_count": 43,
   "id": "db717d1e",
   "metadata": {},
   "outputs": [
    {
     "data": {
      "text/plain": [
       "(1, [1, 0], False)"
      ]
     },
     "execution_count": 43,
     "metadata": {},
     "output_type": "execute_result"
    }
   ],
   "source": [
    "env.step(0)"
   ]
  },
  {
   "cell_type": "code",
   "execution_count": 44,
   "id": "ec5aef82",
   "metadata": {},
   "outputs": [
    {
     "data": {
      "text/plain": [
       "(0, [1, 0], False)"
      ]
     },
     "execution_count": 44,
     "metadata": {},
     "output_type": "execute_result"
    }
   ],
   "source": [
    "env.step(0)"
   ]
  },
  {
   "cell_type": "code",
   "execution_count": 45,
   "id": "73bea0d5",
   "metadata": {},
   "outputs": [
    {
     "data": {
      "text/plain": [
       "(0, [1, 0], False)"
      ]
     },
     "execution_count": 45,
     "metadata": {},
     "output_type": "execute_result"
    }
   ],
   "source": [
    "env.step(0)"
   ]
  },
  {
   "cell_type": "code",
   "execution_count": null,
   "id": "b7433049",
   "metadata": {},
   "outputs": [],
   "source": []
  }
 ],
 "metadata": {
  "kernelspec": {
   "display_name": "Python 3 (ipykernel)",
   "language": "python",
   "name": "python3"
  },
  "language_info": {
   "codemirror_mode": {
    "name": "ipython",
    "version": 3
   },
   "file_extension": ".py",
   "mimetype": "text/x-python",
   "name": "python",
   "nbconvert_exporter": "python",
   "pygments_lexer": "ipython3",
   "version": "3.10.9"
  }
 },
 "nbformat": 4,
 "nbformat_minor": 5
}
